{
 "cells": [
  {
   "cell_type": "code",
   "execution_count": 4,
   "metadata": {},
   "outputs": [],
   "source": [
    "import numpy as np\n",
    "from scipy.optimize import minimize"
   ]
  },
  {
   "cell_type": "code",
   "execution_count": 5,
   "metadata": {},
   "outputs": [],
   "source": [
    "import pandas as pd\n",
    "df = pd.read_excel(r\"E:\\code\\meisai\\source\\2024\\C\\Wimbledon_featured_matches2(9).xlsx\")"
   ]
  },
  {
   "cell_type": "code",
   "execution_count": 6,
   "metadata": {},
   "outputs": [
    {
     "name": "stdout",
     "output_type": "stream",
     "text": [
      "(7284, 46)\n"
     ]
    }
   ],
   "source": [
    "data = pd.read_csv(r\"E:\\code\\meisai\\source\\2024\\C\\Wimbledon_featured_matches.csv\", sep=',')\n",
    "print(data.shape)\n",
    "KK=df['K']\n",
    "set_s=7 # H\n",
    "game_s=9 #j\n",
    "game_v=18 #S\n",
    "set_v=19 #T\n",
    "set_n=4 #E\n",
    "game_n=5 #F\n",
    "p_s=11 #L\n",
    "server=13 #N\n",
    "l=7283\n",
    "p1_s=11\n",
    "p2_s=12"
   ]
  },
  {
   "cell_type": "code",
   "execution_count": 7,
   "metadata": {},
   "outputs": [],
   "source": [
    "def obj_fun(n):\n",
    "    #n是[n1,n2,n3,n4]\n",
    "    M=0\n",
    "    Ra=130\n",
    "    Rb=100\n",
    "    for k in range(front,last):\n",
    "        Ra=0.9*Ra+((n[0]**alpha_P1[k])*KK[k]-n[1]*beta_p1[k]-n[2]*omega_p1[k]+n[3]*z_p1[k])*gama_p1[k]\n",
    "        Rb=0.9*Rb+((n[0]**alpha_p2[k])*KK[k]-n[1]*beta_p2[k]-n[2]*omega_p2[k]+n[3]*z_p2[k])*gama_p2[k]\n",
    "        C=Ra-Rb\n",
    "        M=M+((-1)**victor[k])*C*0.01+(Ra**2+Rb**2)*0.001\n",
    "    return M\n",
    "\n",
    "#n[0]对应是否发球,ELO\n",
    "#n[1]对应失误\n",
    "#n[2]对应体能消耗\n",
    "#n[3]连胜"
   ]
  },
  {
   "cell_type": "code",
   "execution_count": 8,
   "metadata": {},
   "outputs": [],
   "source": [
    "n_0 = np.array([5,5,5,5])\n",
    "pd.set_option('display.float_format',lambda x : '%.5f' % x)"
   ]
  },
  {
   "cell_type": "code",
   "execution_count": 12,
   "metadata": {},
   "outputs": [
    {
     "name": "stdout",
     "output_type": "stream",
     "text": [
      "[ 0.69880372 -0.53937356  0.00492759  1.03686186]\n",
      "[ 0.83170528 -2.25393921  0.00246039  0.82891288]\n",
      "[ 5.27392362e-01 -5.94739861e+00  1.61208936e-03  2.05328401e+00]\n",
      "[0.73908504 0.14527231 0.00135333 0.35788286]\n",
      "[7.12740381e-01 1.02161488e+00 8.83097106e-04 7.29286556e-01]\n",
      "[8.23549564e-01 3.99922215e-01 7.24740169e-04 5.57678958e-01]\n",
      "[ 8.62969996e-01 -1.20614596e+01  6.56586124e-04  1.26984320e+00]\n",
      "[ 4.92105986e-01 -8.50414619e+00  4.61817719e-04  2.63675664e+00]\n",
      "[ 8.26776998e-01 -7.28377153e+00  5.42578548e-04  1.74750104e+00]\n",
      "[ 8.65520626e-01 -6.94415826e+00  5.62907365e-04  1.32533447e+00]\n",
      "[ 1.30734540e+00 -6.34933211e+00  5.16454490e-04 -7.05490911e-01]\n",
      "[ 1.17542143e+00 -1.34913721e+00  5.19615692e-04 -3.94045648e-01]\n",
      "[ 1.01232631e+00  2.45114363e-01  3.91456436e-04 -7.32742317e-01]\n",
      "[ 1.03070776e+00  4.59966798e+00  3.46610333e-04 -2.10602672e+00]\n",
      "[7.21818268e-01 1.52230688e+00 2.59868592e-04 2.81845948e-01]\n",
      "[ 1.09917868e+00  6.74042875e+00  2.86408629e-04 -2.71981263e+00]\n",
      "[ 9.46314792e-01 -5.24970338e+00  3.04882210e-04  4.06461227e-01]\n",
      "[ 1.25895665e+00  2.92603436e+00  3.00704200e-04 -2.33672358e+00]\n",
      "[ 1.27795548e+00 -9.59889687e+00  3.78086301e-04  9.31022049e-02]\n",
      "[ 9.60442802e-01 -4.05944811e+00  2.82570616e-04  2.45848391e-01]\n",
      "[8.01373285e-01 2.59047950e+00 2.13932145e-04 3.76209780e-02]\n",
      "[4.41737063e-01 5.64892837e+00 1.45965287e-04 5.15379440e-01]\n",
      "[ 7.19609197e-01 -1.18047238e+00  1.84368484e-04  1.37756559e+00]\n",
      "[ 9.21842708e-01  6.66210654e+00  1.84894673e-04 -6.38758697e-01]\n",
      "[ 4.82205925e-01 -1.20807909e+01  1.77791152e-04  3.19105558e+00]\n",
      "[ 8.07457020e-01 -1.13584406e+00  1.74152925e-04  6.19257451e-01]\n",
      "[5.25201689e-01 1.43861493e+00 1.50398489e-04 6.65401769e-01]\n",
      "[5.98057475e-01 9.88908448e-01 1.39164035e-04 1.08295821e+00]\n",
      "[ 4.34684197e-01 -7.80435309e+00  1.53286874e-04  1.80846757e+00]\n",
      "[ 1.03389013e+00  3.70212690e+00  1.62591136e-04 -1.30869153e+00]\n",
      "[ 1.06755488e+00  2.25422101e+00  1.77175254e-04 -8.55464538e-01]\n",
      "        0       1       2       3\n",
      "0 0.00000 0.00000 0.00000 0.00000\n"
     ]
    }
   ],
   "source": [
    "from scipy.optimize import Bounds\n",
    "\n",
    "lb = [-5, -5, -5, -5]\n",
    "ub = [15, 15, 15, 15]\n",
    "bounds = Bounds(lb, ub)\n",
    "i=0\n",
    "p=np.zeros([1,4])\n",
    "out=np.zeros([1,4])\n",
    "num=0\n",
    "while i < l:\n",
    "    k=i\n",
    "    while data.iloc[i,0]==data.iloc[k,0] and k<l:\n",
    "        k=k+1\n",
    "    front=i\n",
    "    last=k-1\n",
    "    i=k\n",
    "    victor = df['point_victor'].iloc[df.index[front:last]]\n",
    "    alpha_P1 = df['alpha_P1'].iloc[df.index[front:last]]\n",
    "    alpha_p2 = df['alpha_p2'].iloc[df.index[front:last]]\n",
    "    gama_p1 = df['(Sa-Ea)'].iloc[df.index[front:last]]\n",
    "    gama_p2 = df['(Sb-Eb)'].iloc[df.index[front:last]]\n",
    "    beta_p1 = df['beta_p1'].iloc[df.index[front:last]]\n",
    "    beta_p2 = df['beta_p2'].iloc[df.index[front:last]]\n",
    "    omega_p1 = df['omega_p1'].iloc[df.index[front:last]]\n",
    "    omega_p2 = df['omega_p2'].iloc[df.index[front:last]]\n",
    "    z_p1 = df['z_p1'].iloc[df.index[front:last]]\n",
    "    z_p2 = df['z_p2'].iloc[df.index[front:last]]\n",
    "    res= minimize(obj_fun, n_0, method='Powell')\n",
    "    #out=np.append(out,res.x)\n",
    "    print(res.x)\n",
    "    num=num+1\n",
    "    p=p+res.x\n",
    "\n",
    "out=pd.DataFrame(out)\n",
    "print(out)"
   ]
  },
  {
   "cell_type": "code",
   "execution_count": 13,
   "metadata": {},
   "outputs": [
    {
     "name": "stdout",
     "output_type": "stream",
     "text": [
      "[[ 2.60047311e+01 -5.14564776e+01  1.96355044e-02  1.10705503e+01]]\n",
      "(1, 4)\n",
      "[[ 8.38862293e-01 -1.65988637e+00  6.33403366e-04  3.57114525e-01]]\n"
     ]
    }
   ],
   "source": [
    "print(p)\n",
    "print(p.shape)\n",
    "print(p/31)"
   ]
  },
  {
   "cell_type": "code",
   "execution_count": null,
   "metadata": {},
   "outputs": [],
   "source": []
  }
 ],
 "metadata": {
  "kernelspec": {
   "display_name": "Python 3 (ipykernel)",
   "language": "python",
   "name": "python3"
  },
  "language_info": {
   "codemirror_mode": {
    "name": "ipython",
    "version": 3
   },
   "file_extension": ".py",
   "mimetype": "text/x-python",
   "name": "python",
   "nbconvert_exporter": "python",
   "pygments_lexer": "ipython3",
   "version": "3.11.5"
  }
 },
 "nbformat": 4,
 "nbformat_minor": 2
}
