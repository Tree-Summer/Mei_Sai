{
 "cells": [
  {
   "cell_type": "code",
   "execution_count": 8,
   "metadata": {},
   "outputs": [],
   "source": [
    "import numpy as np\n",
    "from scipy.optimize import minimize"
   ]
  },
  {
   "cell_type": "code",
   "execution_count": 9,
   "metadata": {},
   "outputs": [],
   "source": [
    "import pandas as pd\n",
    "df = pd.read_excel(\"E:\\\\2023_C\\\\2024_C\\\\Wimbledon_featured_matches2.xlsx\")"
   ]
  },
  {
   "cell_type": "code",
   "execution_count": 10,
   "metadata": {},
   "outputs": [],
   "source": [
    "victor = df['point_victor']\n",
    "alpha_P1 = df['alpha_P1']\n",
    "alpha_p2 = df['alpha_p2']\n",
    "KK=df['K']\n",
    "gama_p1 = df['(Sa-Ea)']\n",
    "gama_p2 = df['(Sb-Eb)']\n",
    "beta_p1 = df['beta_p1']\n",
    "beta_p2 = df['beta_p2']\n",
    "omega_p1 = df['omega_p1']\n",
    "omega_p2 = df['omega_p2']\n",
    "z_p1 = df['z_p1']\n",
    "z_p2 = df['z_p2']"
   ]
  },
  {
   "cell_type": "code",
   "execution_count": 11,
   "metadata": {},
   "outputs": [],
   "source": [
    "def obj_fun(n):\n",
    "    #n是[n1,n2,n3,n4]\n",
    "    M=0\n",
    "    Ra=130\n",
    "    Rb=100\n",
    "    for k in range(1000):\n",
    "        Ra=Ra+((n[0]**alpha_P1[k])*KK[k]-n[1]*beta_p1[k]-n[2]*omega_p1[k]+n[3]*z_p1[k])*gama_p1[k]\n",
    "        Rb=Rb+((n[0]**alpha_p2[k])*KK[k]-n[1]*beta_p2[k]-n[2]*omega_p2[k]+n[3]*z_p2[k])*gama_p2[k]\n",
    "        C=Ra-Rb\n",
    "        M=M+((-1)**victor[k])*C*0.01+(Ra**2+Rb**2)*0.00001\n",
    "    return M\n"
   ]
  },
  {
   "cell_type": "code",
   "execution_count": 12,
   "metadata": {},
   "outputs": [],
   "source": [
    "n_0 = np.array([2,2,0.1,4])\n"
   ]
  },
  {
   "cell_type": "code",
   "execution_count": 13,
   "metadata": {},
   "outputs": [
    {
     "name": "stdout",
     "output_type": "stream",
     "text": [
      " message: Optimization terminated successfully\n",
      " success: True\n",
      "  status: 0\n",
      "     fun: 249115.1234353248\n",
      "       x: [ 2.000e+00  2.000e+00  1.000e-01  4.000e+00]\n",
      "     nit: 5\n",
      "     jac: [ 1.131e+05  4.289e+03  2.629e+06  2.500e+04]\n",
      "    nfev: 5\n",
      "    njev: 1\n"
     ]
    }
   ],
   "source": [
    "from scipy.optimize import Bounds\n",
    "\n",
    "lb = [-20, -10, -0.5, -10]\n",
    "ub = [20, 10, 0.5, 10]\n",
    "bounds = Bounds(lb, ub)\n",
    "\n",
    "res= minimize(obj_fun, n_0, method='SLSQP', bounds=bounds)\n",
    "\n",
    "print(res)\n",
    "\n"
   ]
  },
  {
   "cell_type": "code",
   "execution_count": 2,
   "metadata": {},
   "outputs": [],
   "source": [
    "n=[4,8,0.1,5]"
   ]
  },
  {
   "cell_type": "code",
   "execution_count": 1,
   "metadata": {},
   "outputs": [],
   "source": [
    "import pandas as pd\n",
    "df = pd.read_excel(\"E:\\\\2023_C\\\\2024_C\\\\Wimbledon_featured_matches2.xlsx\")"
   ]
  },
  {
   "cell_type": "code",
   "execution_count": 5,
   "metadata": {},
   "outputs": [],
   "source": [
    "RA=130\n",
    "RB=100\n",
    "for index,row in df.iterrows():\n",
    "    RA=RA+(n[0]**alpha_P1[index])*gama_p1[index]-n[1]*beta_p1[index]-n[2]*omega_p1[index]+n[3]*z_p1[index]\n",
    "    RB=RB+(n[0]**alpha_p2[index])*gama_p2[index]-n[1]*beta_p2[index]-n[2]*omega_p2[index]+n[3]*z_p2[index]\n",
    "    df.loc[index,'RA'] = RA\n",
    "    df.loc[index,'RB'] = RB"
   ]
  },
  {
   "cell_type": "code",
   "execution_count": 6,
   "metadata": {},
   "outputs": [],
   "source": [
    "df.to_excel(\"E:\\\\2023_C\\\\2024_C\\\\Wimbledon_featured_matches2.xlsx\",index=False)"
   ]
  }
 ],
 "metadata": {
  "kernelspec": {
   "display_name": "Python 3 (ipykernel)",
   "language": "python",
   "name": "python3"
  },
  "language_info": {
   "codemirror_mode": {
    "name": "ipython",
    "version": 3
   },
   "file_extension": ".py",
   "mimetype": "text/x-python",
   "name": "python",
   "nbconvert_exporter": "python",
   "pygments_lexer": "ipython3",
   "version": "3.11.5"
  }
 },
 "nbformat": 4,
 "nbformat_minor": 2
}
