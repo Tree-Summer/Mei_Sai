{
 "cells": [
  {
   "cell_type": "code",
   "execution_count": null,
   "metadata": {},
   "outputs": [],
   "source": [
    "#这一步预计得到转折点对应的势头和其他指标，比较列"
   ]
  },
  {
   "cell_type": "code",
   "execution_count": null,
   "metadata": {},
   "outputs": [],
   "source": [
    "#这一步均值化"
   ]
  },
  {
   "cell_type": "markdown",
   "metadata": {},
   "source": [
    "## 灰色关联分析法\n",
    "\n",
    "对于两个系统之间的因素，其随时间或不同对象而变化的关联性大小的量度，称为关联度。在系统发展过程中，若两个因素变化的趋势具有一致性，即同步变化程度较高，即可谓二者关联程度较高；反之，则较低。因此，灰色关联分析方法，是根据因素之间发展趋势的相似或相异程度，亦即“灰色关联度”，作为衡量因素间关联程度的一种方法。\n",
    "\n",
    "### 简介\n",
    "灰色系统理论提出了对各子系统进行灰色关联度分析的概念，意图透过一定的方法，去寻求系统中各子系统（或因素）之间的数值关系。因此，灰色关联度分析对于一个系统发展变化态势提供了量化的度量，非常适合动态历程分析。\n",
    "###  计算步骤\n",
    "1. 确实参考数列与比较数列\n",
    "2. 对参考数列与比较数列进行无量纲化处理\n",
    "3. 计算关联系数,求关联度\n",
    "\n",
    "此处我给出的是第三步的实现方式,无量纲化请自己处理."
   ]
  },
  {
   "cell_type": "code",
   "execution_count": 1,
   "metadata": {
    "ExecuteTime": {
     "end_time": "2019-07-19T07:38:47.925761Z",
     "start_time": "2019-07-19T07:38:47.467957Z"
    },
    "scrolled": false
   },
   "outputs": [],
   "source": [
    "import pandas as pd\n",
    "import numpy as np\n",
    "from numpy import *\n",
    "import matplotlib.pyplot as plt\n",
    "%matplotlib inline\n",
    "\n",
    "# 从硬盘读取数据进入内存\n",
    "data = pd.read_csv(r\"E:\\code\\meisai\\source\\2024\\C\\tableConvert.com_j48lxj.csv\")\n",
    "# data=data.iloc[0:7283,[22,23,24,25,26,27,28,29,30,31,32,33,34,35]]\n",
    "data=data.iloc[0:7283,[33,34,35]]\n",
    "data.head()\n",
    "data.to_excel ('second_gray_index.xlsx', index=False)"
   ]
  },
  {
   "cell_type": "code",
   "execution_count": 2,
   "metadata": {
    "ExecuteTime": {
     "end_time": "2019-07-19T07:38:48.579178Z",
     "start_time": "2019-07-19T07:38:48.571221Z"
    }
   },
   "outputs": [
    {
     "data": {
      "text/html": [
       "<div>\n",
       "<style scoped>\n",
       "    .dataframe tbody tr th:only-of-type {\n",
       "        vertical-align: middle;\n",
       "    }\n",
       "\n",
       "    .dataframe tbody tr th {\n",
       "        vertical-align: top;\n",
       "    }\n",
       "\n",
       "    .dataframe thead th {\n",
       "        text-align: right;\n",
       "    }\n",
       "</style>\n",
       "<table border=\"1\" class=\"dataframe\">\n",
       "  <thead>\n",
       "    <tr style=\"text-align: right;\">\n",
       "      <th></th>\n",
       "      <th>RA</th>\n",
       "      <th>RB</th>\n",
       "      <th>turnning_point</th>\n",
       "    </tr>\n",
       "  </thead>\n",
       "  <tbody>\n",
       "    <tr>\n",
       "      <th>0</th>\n",
       "      <td>130.000000</td>\n",
       "      <td>100.000000</td>\n",
       "      <td>0.0</td>\n",
       "    </tr>\n",
       "    <tr>\n",
       "      <th>1</th>\n",
       "      <td>110.615223</td>\n",
       "      <td>98.686367</td>\n",
       "      <td>0.0</td>\n",
       "    </tr>\n",
       "    <tr>\n",
       "      <th>2</th>\n",
       "      <td>106.016751</td>\n",
       "      <td>81.112790</td>\n",
       "      <td>0.0</td>\n",
       "    </tr>\n",
       "    <tr>\n",
       "      <th>3</th>\n",
       "      <td>89.069907</td>\n",
       "      <td>81.633888</td>\n",
       "      <td>0.0</td>\n",
       "    </tr>\n",
       "    <tr>\n",
       "      <th>4</th>\n",
       "      <td>86.642020</td>\n",
       "      <td>65.751876</td>\n",
       "      <td>0.0</td>\n",
       "    </tr>\n",
       "    <tr>\n",
       "      <th>...</th>\n",
       "      <td>...</td>\n",
       "      <td>...</td>\n",
       "      <td>...</td>\n",
       "    </tr>\n",
       "    <tr>\n",
       "      <th>7278</th>\n",
       "      <td>26.492413</td>\n",
       "      <td>-32.893606</td>\n",
       "      <td>0.0</td>\n",
       "    </tr>\n",
       "    <tr>\n",
       "      <th>7279</th>\n",
       "      <td>49.349994</td>\n",
       "      <td>-52.426322</td>\n",
       "      <td>0.0</td>\n",
       "    </tr>\n",
       "    <tr>\n",
       "      <th>7280</th>\n",
       "      <td>16.691296</td>\n",
       "      <td>-21.200650</td>\n",
       "      <td>0.0</td>\n",
       "    </tr>\n",
       "    <tr>\n",
       "      <th>7281</th>\n",
       "      <td>-11.250548</td>\n",
       "      <td>5.904115</td>\n",
       "      <td>0.0</td>\n",
       "    </tr>\n",
       "    <tr>\n",
       "      <th>7282</th>\n",
       "      <td>15.797751</td>\n",
       "      <td>-18.988165</td>\n",
       "      <td>0.0</td>\n",
       "    </tr>\n",
       "  </tbody>\n",
       "</table>\n",
       "<p>7283 rows × 3 columns</p>\n",
       "</div>"
      ],
      "text/plain": [
       "              RA          RB  turnning_point\n",
       "0     130.000000  100.000000             0.0\n",
       "1     110.615223   98.686367             0.0\n",
       "2     106.016751   81.112790             0.0\n",
       "3      89.069907   81.633888             0.0\n",
       "4      86.642020   65.751876             0.0\n",
       "...          ...         ...             ...\n",
       "7278   26.492413  -32.893606             0.0\n",
       "7279   49.349994  -52.426322             0.0\n",
       "7280   16.691296  -21.200650             0.0\n",
       "7281  -11.250548    5.904115             0.0\n",
       "7282   15.797751  -18.988165             0.0\n",
       "\n",
       "[7283 rows x 3 columns]"
      ]
     },
     "execution_count": 2,
     "metadata": {},
     "output_type": "execute_result"
    }
   ],
   "source": [
    "data"
   ]
  },
  {
   "cell_type": "code",
   "execution_count": 3,
   "metadata": {
    "ExecuteTime": {
     "end_time": "2019-07-19T07:38:48.579178Z",
     "start_time": "2019-07-19T07:38:48.571221Z"
    }
   },
   "outputs": [],
   "source": [
    "# 无量纲化\n",
    "def dimensionlessProcessing(df):\n",
    "    newDataFrame = pd.DataFrame(index=df.index)\n",
    "    columns = df.columns.tolist()\n",
    "    for c in columns:\n",
    "        d = df[c]\n",
    "        MAX = d.max()\n",
    "        MIN = d.min()\n",
    "        MEAN = d.mean()\n",
    "        newDataFrame[c] = ((d - MEAN) / (MAX - MIN)).tolist()\n",
    "    return newDataFrame\n",
    "\n",
    "def GRA_ONE(gray, m=0):\n",
    "    # 读取为df格式\n",
    "    gray = dimensionlessProcessing(gray)\n",
    "    # 标准化\n",
    "    std = gray.iloc[:, m]  # 为标准要素\n",
    "    gray.drop(str(m),axis=1,inplace=True)\n",
    "    ce = gray.iloc[:, 0:]  # 为比较要素\n",
    "    shape_n, shape_m = ce.shape[0], ce.shape[1]  # 计算行列\n",
    "\n",
    "    # 与标准要素比较，相减\n",
    "    a = zeros([shape_m, shape_n])\n",
    "    for i in range(shape_m):\n",
    "        for j in range(shape_n):\n",
    "            a[i, j] = abs(ce.iloc[j, i] - std[j])\n",
    "\n",
    "    # 取出矩阵中最大值与最小值\n",
    "    c, d = amax(a), amin(a)\n",
    "\n",
    "    # 计算值\n",
    "    result = zeros([shape_m, shape_n])\n",
    "    for i in range(shape_m):\n",
    "        for j in range(shape_n):\n",
    "            result[i, j] = (d + 0.5 * c) / (a[i, j] + 0.5 * c)\n",
    "\n",
    "    # 求均值，得到灰色关联值,并返回\n",
    "    result_list = [mean(result[i, :]) for i in range(shape_m)]\n",
    "    result_list.insert(m,1)\n",
    "    return pd.DataFrame(result_list)\n",
    "\n",
    "\n",
    "def GRA(DataFrame):\n",
    "    df = DataFrame.copy()\n",
    "    list_columns = [\n",
    "        str(s) for s in range(len(df.columns)) if s not in [None]\n",
    "    ]\n",
    "    df_local = pd.DataFrame(columns=list_columns)\n",
    "    df.columns=list_columns\n",
    "    for i in range(len(df.columns)):\n",
    "        df_local.iloc[:, i] = GRA_ONE(df, m=i)[0]\n",
    "    return df_local"
   ]
  },
  {
   "cell_type": "code",
   "execution_count": 4,
   "metadata": {
    "ExecuteTime": {
     "end_time": "2019-07-19T07:44:58.673400Z",
     "start_time": "2019-07-19T07:44:54.886499Z"
    }
   },
   "outputs": [
    {
     "name": "stderr",
     "output_type": "stream",
     "text": [
      "C:\\Users\\wandering_leaf\\AppData\\Local\\Temp\\ipykernel_13864\\1828408359.py:51: DeprecationWarning: In a future version, `df.iloc[:, i] = newvals` will attempt to set the values inplace instead of always setting a new array. To retain the old behavior, use either `df[df.columns[i]] = newvals` or, if columns are non-unique, `df.isetitem(i, newvals)`\n",
      "  df_local.iloc[:, i] = GRA_ONE(df, m=i)[0]\n",
      "C:\\Users\\wandering_leaf\\AppData\\Local\\Temp\\ipykernel_13864\\1828408359.py:51: DeprecationWarning: In a future version, `df.iloc[:, i] = newvals` will attempt to set the values inplace instead of always setting a new array. To retain the old behavior, use either `df[df.columns[i]] = newvals` or, if columns are non-unique, `df.isetitem(i, newvals)`\n",
      "  df_local.iloc[:, i] = GRA_ONE(df, m=i)[0]\n"
     ]
    },
    {
     "data": {
      "text/html": [
       "<div>\n",
       "<style scoped>\n",
       "    .dataframe tbody tr th:only-of-type {\n",
       "        vertical-align: middle;\n",
       "    }\n",
       "\n",
       "    .dataframe tbody tr th {\n",
       "        vertical-align: top;\n",
       "    }\n",
       "\n",
       "    .dataframe thead th {\n",
       "        text-align: right;\n",
       "    }\n",
       "</style>\n",
       "<table border=\"1\" class=\"dataframe\">\n",
       "  <thead>\n",
       "    <tr style=\"text-align: right;\">\n",
       "      <th></th>\n",
       "      <th>0</th>\n",
       "      <th>1</th>\n",
       "      <th>2</th>\n",
       "    </tr>\n",
       "  </thead>\n",
       "  <tbody>\n",
       "    <tr>\n",
       "      <th>0</th>\n",
       "      <td>1.000000</td>\n",
       "      <td>0.858625</td>\n",
       "      <td>0.885773</td>\n",
       "    </tr>\n",
       "    <tr>\n",
       "      <th>1</th>\n",
       "      <td>0.854559</td>\n",
       "      <td>1.000000</td>\n",
       "      <td>0.880462</td>\n",
       "    </tr>\n",
       "    <tr>\n",
       "      <th>2</th>\n",
       "      <td>0.882455</td>\n",
       "      <td>0.880457</td>\n",
       "      <td>1.000000</td>\n",
       "    </tr>\n",
       "  </tbody>\n",
       "</table>\n",
       "</div>"
      ],
      "text/plain": [
       "          0         1         2\n",
       "0  1.000000  0.858625  0.885773\n",
       "1  0.854559  1.000000  0.880462\n",
       "2  0.882455  0.880457  1.000000"
      ]
     },
     "execution_count": 4,
     "metadata": {},
     "output_type": "execute_result"
    }
   ],
   "source": [
    "data_gra = GRA(data)\n",
    "# data_wine_gra.to_csv(path+\"GRA.csv\") 存储结果到硬盘\n",
    "data_gra"
   ]
  },
  {
   "cell_type": "code",
   "execution_count": 7,
   "metadata": {
    "ExecuteTime": {
     "end_time": "2019-07-19T07:48:33.634813Z",
     "start_time": "2019-07-19T07:48:33.629795Z"
    },
    "scrolled": true
   },
   "outputs": [],
   "source": [
    "data_gra.columns = data.columns\n",
    "data_gra.index = data.columns\n",
    "data_gra\n",
    "data.to_excel ('第二问关联度处理数据.xlsx', index=False)\n",
    "data_gra.to_excel ('第二问关联度结果.xlsx', index=False)"
   ]
  },
  {
   "cell_type": "code",
   "execution_count": 22,
   "metadata": {
    "ExecuteTime": {
     "end_time": "2019-07-19T08:03:40.866126Z",
     "start_time": "2019-07-19T08:03:40.371417Z"
    }
   },
   "outputs": [
    {
     "name": "stdout",
     "output_type": "stream",
     "text": [
      "['RA', 'RB', 'turnning_point']\n",
      "<function axes_style at 0x000002B140342160>\n"
     ]
    },
    {
     "data": {
      "image/png": "[encoded data removed]",
      "text/plain": [
       "<Figure size 1400x1200 with 2 Axes>"
      ]
     },
     "metadata": {},
     "output_type": "display_data"
    }
   ],
   "source": [
    "# 灰色关联结果矩阵可视化\n",
    "import seaborn as sns\n",
    "\n",
    "def ShowGRAHeatMap(DataFrame):\n",
    "    colormap = plt.cm.RdBu\n",
    "    ylabels = DataFrame.columns.values.tolist()\n",
    "    print( DataFrame.columns.values.tolist())\n",
    "    f, ax = plt.subplots(figsize=(14, 12))\n",
    "    ax.set_title('GRA HeatMap')\n",
    "    \n",
    "    # 设置展示一半，如果不需要注释掉mask即可\n",
    "#     mask = np.zeros_like(DataFrame)\n",
    "#     mask[np.triu_indices_from(mask)] = True\n",
    "    with sns.axes_style(\"white\"):\n",
    "        print(sns.axes_style)\n",
    "        sns.heatmap(DataFrame,\n",
    "                    cmap=\"YlGnBu\",\n",
    "                    annot=True,\n",
    "                    vmin=0,vmax=1\n",
    "#                     mask=mask,\n",
    "                   )\n",
    "    plt.show()\n",
    "\n",
    "ShowGRAHeatMap(data_gra)"
   ]
  },
  {
   "cell_type": "markdown",
   "metadata": {
    "ExecuteTime": {
     "end_time": "2019-07-19T08:03:40.866126Z",
     "start_time": "2019-07-19T08:03:40.371417Z"
    }
   },
   "source": [
    "## 代码运算性能对比\n",
    "一段来至于其他博客的纯pd代码，主要用于对比性能。测试这个纯pd确实比我的np为主的代码慢很多。"
   ]
  },
  {
   "cell_type": "code",
   "execution_count": 7,
   "metadata": {},
   "outputs": [
    {
     "ename": "NameError",
     "evalue": "name 'wine' is not defined",
     "output_type": "error",
     "traceback": [
      "\u001b[1;31m---------------------------------------------------------------------------\u001b[0m",
      "\u001b[1;31mNameError\u001b[0m                                 Traceback (most recent call last)",
      "Cell \u001b[1;32mIn[7], line 5\u001b[0m\n\u001b[0;32m      1\u001b[0m \u001b[38;5;28;01mimport\u001b[39;00m \u001b[38;5;21;01mpandas\u001b[39;00m \u001b[38;5;28;01mas\u001b[39;00m \u001b[38;5;21;01mpd\u001b[39;00m\n\u001b[0;32m      2\u001b[0m \u001b[38;5;66;03m# x=pd.read_excel('data.xlsx')\u001b[39;00m\n\u001b[0;32m      3\u001b[0m \u001b[38;5;66;03m# x=x.iloc[:,1:].T\u001b[39;00m\n\u001b[1;32m----> 5\u001b[0m x \u001b[38;5;241m=\u001b[39m wine\u001b[38;5;241m.\u001b[39mT\n\u001b[0;32m      6\u001b[0m \u001b[38;5;28;01mimport\u001b[39;00m \u001b[38;5;21;01mtime\u001b[39;00m\n\u001b[0;32m      7\u001b[0m t1\u001b[38;5;241m=\u001b[39m time\u001b[38;5;241m.\u001b[39mtime()\n",
      "\u001b[1;31mNameError\u001b[0m: name 'wine' is not defined"
     ]
    }
   ],
   "source": [
    "import pandas as pd\n",
    "# x=pd.read_excel('data.xlsx')\n",
    "# x=x.iloc[:,1:].T\n",
    "\n",
    "x = wine.T\n",
    "import time\n",
    "t1= time.time()\n",
    "# 1、数据均值化处理\n",
    "x_mean=x.mean(axis=1)\n",
    "for i in range(x.index.size):\n",
    "    x.iloc[i,:] = x.iloc[i,:]/x_mean[i]\n",
    "\n",
    "# 2、提取参考队列和比较队列\n",
    "ck=x.iloc[0,:]\n",
    "cp=x.iloc[1:,:]\n",
    "\n",
    "# 比较队列与参考队列相减\n",
    "t=pd.DataFrame()\n",
    "for j in range(cp.index.size):\n",
    "    temp=pd.Series(cp.iloc[j,:]-ck)\n",
    "    t=t.append(temp,ignore_index=True)\n",
    "\n",
    "#求最大差和最小差\n",
    "mmax=t.abs().max().max()\n",
    "mmin=t.abs().min().min()\n",
    "rho=0.5\n",
    "#3、求关联系数\n",
    "ksi=((mmin+rho*mmax)/(abs(t)+rho*mmax))\n",
    "\n",
    "\n",
    "#4、求关联度\n",
    "r=ksi.sum(axis=1)/ksi.columns.size\n",
    "t2= time.time()\n",
    "print(t2-t1)\n",
    "#5、关联度排序，得到结果r3>r2>r1\n",
    "result=r.sort_values(ascending=False)"
   ]
  },
  {
   "cell_type": "code",
   "execution_count": null,
   "metadata": {},
   "outputs": [],
   "source": [
    "r,mmax,mmin"
   ]
  },
  {
   "cell_type": "markdown",
   "metadata": {},
   "source": [
    "## 参考文章\n",
    "1. [百度百科 灰色关联分析法](https://baike.baidu.com/item/%E7%81%B0%E8%89%B2%E5%85%B3%E8%81%94%E5%88%86%E6%9E%90%E6%B3%95/8602076?fr=aladdin)\n",
    "2. [简书 Python实现灰色关联](https://www.jianshu.com/p/7f9325551348)"
   ]
  }
 ],
 "metadata": {
  "hide_input": false,
  "kernelspec": {
   "display_name": "Python 3 (ipykernel)",
   "language": "python",
   "name": "python3"
  },
  "language_info": {
   "codemirror_mode": {
    "name": "ipython",
    "version": 3
   },
   "file_extension": ".py",
   "mimetype": "text/x-python",
   "name": "python",
   "nbconvert_exporter": "python",
   "pygments_lexer": "ipython3",
   "version": "3.11.5"
  },
  "latex_envs": {
   "LaTeX_envs_menu_present": true,
   "autoclose": false,
   "autocomplete": true,
   "bibliofile": "biblio.bib",
   "cite_by": "apalike",
   "current_citInitial": 1,
   "eqLabelWithNumbers": true,
   "eqNumInitial": 1,
   "hotkeys": {
    "equation": "Ctrl-E",
    "itemize": "Ctrl-I"
   },
   "labels_anchors": false,
   "latex_user_defs": false,
   "report_style_numbering": false,
   "user_envs_cfg": false
  },
  "toc": {
   "base_numbering": 1,
   "nav_menu": {},
   "number_sections": true,
   "sideBar": true,
   "skip_h1_title": false,
   "title_cell": "Table of Contents",
   "title_sidebar": "Contents",
   "toc_cell": false,
   "toc_position": {},
   "toc_section_display": true,
   "toc_window_display": false
  },
  "varInspector": {
   "cols": {
    "lenName": 16,
    "lenType": 16,
    "lenVar": 40
   },
   "kernels_config": {
    "python": {
     "delete_cmd_postfix": "",
     "delete_cmd_prefix": "del ",
     "library": "var_list.py",
     "varRefreshCmd": "print(var_dic_list())"
    },
    "r": {
     "delete_cmd_postfix": ") ",
     "delete_cmd_prefix": "rm(",
     "library": "var_list.r",
     "varRefreshCmd": "cat(var_dic_list()) "
    }
   },
   "types_to_exclude": [
    "module",
    "function",
    "builtin_function_or_method",
    "instance",
    "_Feature"
   ],
   "window_display": false
  }
 },
 "nbformat": 4,
 "nbformat_minor": 2
}
